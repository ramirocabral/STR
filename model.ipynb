{
 "cells": [
  {
   "cell_type": "markdown",
   "id": "567eda11",
   "metadata": {},
   "source": [
    "### Imports for Model"
   ]
  },
  {
   "cell_type": "code",
   "execution_count": 21,
   "id": "cab4bfa5",
   "metadata": {},
   "outputs": [
    {
     "name": "stdout",
     "output_type": "stream",
     "text": [
      "remote_url:  http://localhost:8080/?start=2025-03-10&end=2025-11-01\n",
      "Descargando datos de http://localhost:8080/?start=2025-03-10&end=2025-11-01 ...\n",
      "Guardado CSV en data/training.csv\n"
     ]
    }
   ],
   "source": [
    "import numpy as np\n",
    "import pandas as pd\n",
    "from matplotlib import pylab as plt\n",
    "from IPython import display\n",
    "from sklearn import preprocessing\n",
    "from sklearn.preprocessing import StandardScaler\n",
    "from sklearn.model_selection import train_test_split\n",
    "from tensorflow.keras.models import Sequential\n",
    "from tensorflow.keras.layers import Dense\n",
    "from tensorflow.keras import optimizers\n",
    "from tensorflow.keras.callbacks import EarlyStopping\n",
    "from sklearn import metrics\n",
    "import matplotlib.pyplot as plt\n",
    "from sklearn.metrics import confusion_matrix, ConfusionMatrixDisplay\n",
    "\n",
    "DATOS_DIR = \"data/\"\n",
    "import os\n",
    "import requests\n",
    "from datetime import date, datetime, timedelta\n",
    "\n",
    "# Asegurar carpeta de datos\n",
    "os.makedirs(DATOS_DIR, exist_ok=True)\n",
    "\n",
    "# Parámetros de periodo: primer día de marzo 2025 hasta hoy\n",
    "START_DATE = \"2025-03-10\"\n",
    "END_DATE = date.today().isoformat()\n",
    "\n",
    "# Ruta local para guardar el CSV crudo\n",
    "raw_csv_path = os.path.join(DATOS_DIR, 'training.csv')\n",
    "\n",
    "# URL remota a consultar\n",
    "remote_url = f\"http://localhost:8080/?start={START_DATE}&end={END_DATE}\"\n",
    "\n",
    "# Flags: forzar descarga o re-procesado (poner True para forzar)\n",
    "FORCE_DOWNLOAD = False\n",
    "FORCE_REPROCESS = False\n",
    "\n",
    "if FORCE_DOWNLOAD and os.path.exists(raw_csv_path):\n",
    "    os.remove(raw_csv_path)\n",
    "\n",
    "print(\"remote_url: \", remote_url)\n",
    "\n",
    "if not os.path.exists(raw_csv_path):\n",
    "    print(f\"Descargando datos de {remote_url} ...\")\n",
    "    try:\n",
    "        resp = requests.get(remote_url, timeout=30)\n",
    "        resp.raise_for_status()\n",
    "        with open(raw_csv_path, 'wb') as f:\n",
    "            f.write(resp.content)\n",
    "        print(f\"Guardado CSV en {raw_csv_path}\")\n",
    "    except Exception as e:\n",
    "        print(\"Error descargando datos desde localhost:\", e)\n",
    "        raise\n",
    "else:\n",
    "    print(f\"Archivo CSV crudo ya existe en {raw_csv_path}\")\n",
    "\n",
    "data = pd.read_csv(raw_csv_path)"
   ]
  },
  {
   "cell_type": "markdown",
   "id": "62b761c7",
   "metadata": {},
   "source": [
    "### Preprocessing "
   ]
  },
  {
   "cell_type": "code",
   "execution_count": null,
   "id": "a79a2254",
   "metadata": {},
   "outputs": [
    {
     "name": "stdout",
     "output_type": "stream",
     "text": [
      "0   2025-03-10 03:00:00+00:00\n",
      "1   2025-03-10 03:05:00+00:00\n",
      "2   2025-03-10 03:10:00+00:00\n",
      "3   2025-03-10 03:15:00+00:00\n",
      "4   2025-03-10 03:20:00+00:00\n",
      "Name: date, dtype: datetime64[ns, UTC]\n",
      "0   2025-03-10 09:45:51+00:00\n",
      "1   2025-03-10 09:45:51+00:00\n",
      "2   2025-03-10 09:45:51+00:00\n",
      "3   2025-03-10 09:45:51+00:00\n",
      "4   2025-03-10 09:45:51+00:00\n",
      "Name: sunrise_dt, dtype: datetime64[ns, UTC]\n",
      "0   2025-03-10 22:18:04+00:00\n",
      "1   2025-03-10 22:18:04+00:00\n",
      "2   2025-03-10 22:18:04+00:00\n",
      "3   2025-03-10 22:18:04+00:00\n",
      "4   2025-03-10 22:18:04+00:00\n",
      "Name: sunset_dt, dtype: datetime64[ns, UTC]\n"
     ]
    },
    {
     "data": {
      "text/plain": [
       "daylight\n",
       "1    31727\n",
       "0    27912\n",
       "Name: count, dtype: int64"
      ]
     },
     "execution_count": 22,
     "metadata": {},
     "output_type": "execute_result"
    }
   ],
   "source": [
    "def expand_datetime_column(data: pd.DataFrame) -> pd.DataFrame:\n",
    "    \"\"\"Convierte la primera columna de timestamps en columnas separadas (month, day, hour, minute)\n",
    "    y genera una columna 'daylight' según sunrise/sunset.\"\"\"\n",
    "    data = data.copy()\n",
    "\n",
    "    # Convertir la primera columna a datetime UTC\n",
    "    col0 = data.columns[0]\n",
    "\n",
    "    if data[col0].isna().any():\n",
    "        print(\"⚠️ Algunas fechas no se pudieron convertir correctamente.\")\n",
    "\n",
    "    data[col0] = pd.to_datetime(data[col0], utc=True, errors=\"coerce\")\n",
    "\n",
    "    print(data[col0][0:5])\n",
    "\n",
    "    # --- Cálculo de \"daylight\" ---\n",
    "    # sunrise y sunset están en epoch unix UTC, por lo tanto convertimos también:\n",
    "    data[\"sunrise_dt\"] = pd.to_datetime(data[\"sunrise\"], unit=\"s\", utc=True)\n",
    "    data[\"sunset_dt\"]  = pd.to_datetime(data[\"sunset\"],  unit=\"s\", utc=True)\n",
    "\n",
    "    print(data[\"sunrise_dt\"][0:5])\n",
    "    print(data[\"sunset_dt\"][0:5])\n",
    "\n",
    "    # Determinar si hay luz solar (1 si entre sunrise y sunset)\n",
    "    data[\"daylight\"] = (\n",
    "        (data[col0] >= data[\"sunrise_dt\"]) &\n",
    "        (data[col0] <= data[\"sunset_dt\"])\n",
    "    ).astype(int)\n",
    "\n",
    "    # Crear columnas separadas de tiempo\n",
    "    data[\"month\"]  = data[col0].dt.month\n",
    "    data[\"day\"]    = data[col0].dt.day\n",
    "    data[\"hour\"]   = data[col0].dt.hour\n",
    "    data[\"minute\"] = data[col0].dt.minute\n",
    "\n",
    "    # Eliminar columnas auxiliares\n",
    "    data = data.drop(columns=[col0, \"sunrise_dt\", \"sunset_dt\"])\n",
    "\n",
    "    return data\n",
    "\n",
    "data = expand_datetime_column(data)\n",
    "\n",
    "# Convertir viento a componentes vectoriales\n",
    "data[\"wind_x\"] = data[\"wind_speed\"] * np.cos(np.deg2rad(data[\"wind_direction\"]))\n",
    "data[\"wind_y\"] = data[\"wind_speed\"] * np.sin(np.deg2rad(data[\"wind_direction\"]))\n",
    "data = data.drop(columns=[\"wind_direction\", \"wind_speed\"])\n",
    "\n",
    "# Booleanos a enteros\n",
    "data[\"working_day\"] = data[\"working_day\"].astype(int)\n",
    "data[\"holiday\"] = data[\"holiday\"].astype(int)\n",
    "\n",
    "# Separar features y labels\n",
    "X = data.drop(columns=[\"consumption\"])\n",
    "T = data[\"consumption\"]\n",
    "\n",
    "data['daylight'].value_counts()"
   ]
  },
  {
   "cell_type": "code",
   "execution_count": 23,
   "id": "0a0be291",
   "metadata": {},
   "outputs": [],
   "source": [
    "# Normalización Z-score\n",
    "x_scaler = StandardScaler()\n",
    "X_scaled = x_scaler.fit_transform(X)\n",
    "\n",
    "# Escalar también la variable objetivo\n",
    "y_scaler = StandardScaler()\n",
    "T_scaled = y_scaler.fit_transform(T.values.reshape(-1, 1))\n",
    "\n",
    "\n",
    "# División train-test\n",
    "X_train, X_test, T_train, T_test = train_test_split(\n",
    "    X_scaled, T_scaled, test_size=0.2, random_state=42\n",
    ")\n"
   ]
  },
  {
   "cell_type": "markdown",
   "id": "dc7007d2",
   "metadata": {},
   "source": [
    "### Model"
   ]
  },
  {
   "cell_type": "code",
   "execution_count": 24,
   "id": "153a3aef",
   "metadata": {},
   "outputs": [
    {
     "name": "stderr",
     "output_type": "stream",
     "text": [
      "/home/gblas/Developer/STR/venv/lib/python3.13/site-packages/keras/src/layers/core/dense.py:95: UserWarning: Do not pass an `input_shape`/`input_dim` argument to a layer. When using Sequential models, prefer using an `Input(shape)` object as the first layer in the model instead.\n",
      "  super().__init__(activity_regularizer=activity_regularizer, **kwargs)\n",
      "2025-11-01 14:10:43.925715: E external/local_xla/xla/stream_executor/cuda/cuda_platform.cc:51] failed call to cuInit: INTERNAL: CUDA error: Failed call to cuInit: CUDA_ERROR_NO_DEVICE: no CUDA-capable device is detected\n"
     ]
    },
    {
     "data": {
      "text/html": [
       "<pre style=\"white-space:pre;overflow-x:auto;line-height:normal;font-family:Menlo,'DejaVu Sans Mono',consolas,'Courier New',monospace\"><span style=\"font-weight: bold\">Model: \"sequential\"</span>\n",
       "</pre>\n"
      ],
      "text/plain": [
       "\u001b[1mModel: \"sequential\"\u001b[0m\n"
      ]
     },
     "metadata": {},
     "output_type": "display_data"
    },
    {
     "data": {
      "text/html": [
       "<pre style=\"white-space:pre;overflow-x:auto;line-height:normal;font-family:Menlo,'DejaVu Sans Mono',consolas,'Courier New',monospace\">┏━━━━━━━━━━━━━━━━━━━━━━━━━━━━━━━━━┳━━━━━━━━━━━━━━━━━━━━━━━━┳━━━━━━━━━━━━━━━┓\n",
       "┃<span style=\"font-weight: bold\"> Layer (type)                    </span>┃<span style=\"font-weight: bold\"> Output Shape           </span>┃<span style=\"font-weight: bold\">       Param # </span>┃\n",
       "┡━━━━━━━━━━━━━━━━━━━━━━━━━━━━━━━━━╇━━━━━━━━━━━━━━━━━━━━━━━━╇━━━━━━━━━━━━━━━┩\n",
       "│ dense (<span style=\"color: #0087ff; text-decoration-color: #0087ff\">Dense</span>)                   │ (<span style=\"color: #00d7ff; text-decoration-color: #00d7ff\">None</span>, <span style=\"color: #00af00; text-decoration-color: #00af00\">12</span>)             │           <span style=\"color: #00af00; text-decoration-color: #00af00\">216</span> │\n",
       "├─────────────────────────────────┼────────────────────────┼───────────────┤\n",
       "│ dense_1 (<span style=\"color: #0087ff; text-decoration-color: #0087ff\">Dense</span>)                 │ (<span style=\"color: #00d7ff; text-decoration-color: #00d7ff\">None</span>, <span style=\"color: #00af00; text-decoration-color: #00af00\">8</span>)              │           <span style=\"color: #00af00; text-decoration-color: #00af00\">104</span> │\n",
       "├─────────────────────────────────┼────────────────────────┼───────────────┤\n",
       "│ dense_2 (<span style=\"color: #0087ff; text-decoration-color: #0087ff\">Dense</span>)                 │ (<span style=\"color: #00d7ff; text-decoration-color: #00d7ff\">None</span>, <span style=\"color: #00af00; text-decoration-color: #00af00\">1</span>)              │             <span style=\"color: #00af00; text-decoration-color: #00af00\">9</span> │\n",
       "└─────────────────────────────────┴────────────────────────┴───────────────┘\n",
       "</pre>\n"
      ],
      "text/plain": [
       "┏━━━━━━━━━━━━━━━━━━━━━━━━━━━━━━━━━┳━━━━━━━━━━━━━━━━━━━━━━━━┳━━━━━━━━━━━━━━━┓\n",
       "┃\u001b[1m \u001b[0m\u001b[1mLayer (type)                   \u001b[0m\u001b[1m \u001b[0m┃\u001b[1m \u001b[0m\u001b[1mOutput Shape          \u001b[0m\u001b[1m \u001b[0m┃\u001b[1m \u001b[0m\u001b[1m      Param #\u001b[0m\u001b[1m \u001b[0m┃\n",
       "┡━━━━━━━━━━━━━━━━━━━━━━━━━━━━━━━━━╇━━━━━━━━━━━━━━━━━━━━━━━━╇━━━━━━━━━━━━━━━┩\n",
       "│ dense (\u001b[38;5;33mDense\u001b[0m)                   │ (\u001b[38;5;45mNone\u001b[0m, \u001b[38;5;34m12\u001b[0m)             │           \u001b[38;5;34m216\u001b[0m │\n",
       "├─────────────────────────────────┼────────────────────────┼───────────────┤\n",
       "│ dense_1 (\u001b[38;5;33mDense\u001b[0m)                 │ (\u001b[38;5;45mNone\u001b[0m, \u001b[38;5;34m8\u001b[0m)              │           \u001b[38;5;34m104\u001b[0m │\n",
       "├─────────────────────────────────┼────────────────────────┼───────────────┤\n",
       "│ dense_2 (\u001b[38;5;33mDense\u001b[0m)                 │ (\u001b[38;5;45mNone\u001b[0m, \u001b[38;5;34m1\u001b[0m)              │             \u001b[38;5;34m9\u001b[0m │\n",
       "└─────────────────────────────────┴────────────────────────┴───────────────┘\n"
      ]
     },
     "metadata": {},
     "output_type": "display_data"
    },
    {
     "data": {
      "text/html": [
       "<pre style=\"white-space:pre;overflow-x:auto;line-height:normal;font-family:Menlo,'DejaVu Sans Mono',consolas,'Courier New',monospace\"><span style=\"font-weight: bold\"> Total params: </span><span style=\"color: #00af00; text-decoration-color: #00af00\">329</span> (1.29 KB)\n",
       "</pre>\n"
      ],
      "text/plain": [
       "\u001b[1m Total params: \u001b[0m\u001b[38;5;34m329\u001b[0m (1.29 KB)\n"
      ]
     },
     "metadata": {},
     "output_type": "display_data"
    },
    {
     "data": {
      "text/html": [
       "<pre style=\"white-space:pre;overflow-x:auto;line-height:normal;font-family:Menlo,'DejaVu Sans Mono',consolas,'Courier New',monospace\"><span style=\"font-weight: bold\"> Trainable params: </span><span style=\"color: #00af00; text-decoration-color: #00af00\">329</span> (1.29 KB)\n",
       "</pre>\n"
      ],
      "text/plain": [
       "\u001b[1m Trainable params: \u001b[0m\u001b[38;5;34m329\u001b[0m (1.29 KB)\n"
      ]
     },
     "metadata": {},
     "output_type": "display_data"
    },
    {
     "data": {
      "text/html": [
       "<pre style=\"white-space:pre;overflow-x:auto;line-height:normal;font-family:Menlo,'DejaVu Sans Mono',consolas,'Courier New',monospace\"><span style=\"font-weight: bold\"> Non-trainable params: </span><span style=\"color: #00af00; text-decoration-color: #00af00\">0</span> (0.00 B)\n",
       "</pre>\n"
      ],
      "text/plain": [
       "\u001b[1m Non-trainable params: \u001b[0m\u001b[38;5;34m0\u001b[0m (0.00 B)\n"
      ]
     },
     "metadata": {},
     "output_type": "display_data"
    }
   ],
   "source": [
    "from tensorflow.keras.models import Sequential\n",
    "from tensorflow.keras.layers import Dense\n",
    "from tensorflow.keras import optimizers\n",
    "\n",
    "model = Sequential([\n",
    "    Dense(12, activation='relu', input_dim=X_train.shape[1]),\n",
    "    Dense(8, activation='relu'),\n",
    "    Dense(1, activation='linear')  # salida lineal para regresión\n",
    "])\n",
    "\n",
    "optimizer = optimizers.Adam(learning_rate=0.001)  # mucho más eficiente que SGD\n",
    "\n",
    "model.compile(optimizer=optimizer, loss='mse', metrics=['mae'])\n",
    "model.summary()\n"
   ]
  },
  {
   "cell_type": "markdown",
   "id": "1106589a",
   "metadata": {},
   "source": [
    "### Training"
   ]
  },
  {
   "cell_type": "code",
   "execution_count": 25,
   "id": "320ac68c",
   "metadata": {},
   "outputs": [],
   "source": [
    "es = EarlyStopping(monitor='val_loss', patience=30, min_delta=0.0001)\n",
    "\n",
    "\n",
    "history = model.fit(X_train, T_train,batch_size=64,\n",
    "                    epochs=800,\n",
    "                    verbose=0,  # cambiar a 1 si querés ver la salida\n",
    "                    validation_data=(X_test, T_test),callbacks=[es])"
   ]
  },
  {
   "cell_type": "markdown",
   "id": "b3e00ec8",
   "metadata": {},
   "source": [
    "### Evaluation"
   ]
  },
  {
   "cell_type": "code",
   "execution_count": 26,
   "id": "46e8e37b",
   "metadata": {},
   "outputs": [
    {
     "name": "stdout",
     "output_type": "stream",
     "text": [
      "\u001b[1m373/373\u001b[0m \u001b[32m━━━━━━━━━━━━━━━━━━━━\u001b[0m\u001b[37m\u001b[0m \u001b[1m1s\u001b[0m 1ms/step\n",
      "Loss de test: 0.0359, Métrica: 0.1443\n",
      "\u001b[1m373/373\u001b[0m \u001b[32m━━━━━━━━━━━━━━━━━━━━\u001b[0m\u001b[37m\u001b[0m \u001b[1m0s\u001b[0m 465us/step\n"
     ]
    },
    {
     "data": {
      "image/png": "[encoded data removed]",
      "text/plain": [
       "<Figure size 640x480 with 1 Axes>"
      ]
     },
     "metadata": {},
     "output_type": "display_data"
    }
   ],
   "source": [
    "pred_scaled = model.predict(X_test)\n",
    "pred = y_scaler.inverse_transform(pred_scaled)\n",
    "T_real = y_scaler.inverse_transform(T_test)\n",
    "\n",
    "\n",
    "# Evaluación del modelo\n",
    "loss, metric = model.evaluate(X_test, T_test, verbose=0)\n",
    "print(f\"Loss de test: {loss:.4f}, Métrica: {metric:.4f}\")\n",
    "\n",
    "# Predicciones\n",
    "y_pred = model.predict(X_test)\n",
    "\n",
    "plt.scatter(T_real, pred, alpha=0.6)\n",
    "plt.xlabel(\"Valor real\")\n",
    "plt.ylabel(\"Predicción\")\n",
    "plt.title(\"Predicciones vs Valores reales\")\n",
    "plt.show()\n",
    "\n",
    "\n"
   ]
  }
 ],
 "metadata": {
  "kernelspec": {
   "display_name": "venv",
   "language": "python",
   "name": "python3"
  },
  "language_info": {
   "codemirror_mode": {
    "name": "ipython",
    "version": 3
   },
   "file_extension": ".py",
   "mimetype": "text/x-python",
   "name": "python",
   "nbconvert_exporter": "python",
   "pygments_lexer": "ipython3",
   "version": "3.13.7"
  }
 },
 "nbformat": 4,
 "nbformat_minor": 5
}
